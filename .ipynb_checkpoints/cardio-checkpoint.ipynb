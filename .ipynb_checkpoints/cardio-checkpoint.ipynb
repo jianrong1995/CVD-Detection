{
 "cells": [
  {
   "cell_type": "markdown",
   "metadata": {},
   "source": [
    "# Cardiovascular Disease Classification \n",
    "\n",
    "Last Edited: 16/6/2020\n",
    "Author: Shi Jianrong\n"
   ]
  },
  {
   "cell_type": "markdown",
   "metadata": {},
   "source": [
    "## Preamble\n",
    "\n",
    "Cardiovascular disease (CVD) is a class of diseases that involve the heart or blood vessels. It is the leading cause of death in all over the world except in Africa. Some of the common CVD include hypertensive heart disease, stroke, angina, arrhythmia and heart failure.\n",
    "\n",
    "According to the World Health Organisation (WHO), it takes an estimated 17.9 million lives each year, accounting for 31% of total death worldwide. It is estimated that 75% of CVD deaths are preventable if proper treatment and intervention are administered to patients with existing CVD. A large number of researches are done throughout the years in the area of risk factors that affects the chances of getting CVD. Some of the common risk factors identified are genetics, age, gender, tobacco use, alcohol use, physical activities, diet, sleep and stress.\n",
    "\n",
    "For patients who have not been diagnosed of CVD and who are experiencing symptoms of CVD, doctors will usually evaluate his/her risk based on individual risk factors. Further diagnosis can then be performed ,in the forms of electrocardiogram (ECG), exercise stress tests, echocardiogram, coronary angiography, magnetic resonance imaging (MRI) and computerised tomography (CT), depending on the suspected disease. \n",
    "\n",
    "The aim of this project is to predict if a person is suffering from CVD based on a few simple characteristics. The factors that are examined here are age, gender, height, weight, systolic blood pressure, diastolic blood pressure, cholesterol level, glucose level, tabacco use, alcohol use and physical activity. \n",
    "\n",
    "The project aims to leverage on machine learning (ML) techniques to effectively classify and detect CVD cases. It is intended to be used as a proof of concept that these factors can be used as a simple evaluation to tell if a potential patient may suffer from CVD. "
   ]
  },
  {
   "cell_type": "markdown",
   "metadata": {},
   "source": [
    "## Data Source\n",
    "\n",
    "The data was obtained from Kaggle, a subsidary under Alphabet Inc. It is an online community for data scientists and ML practitioners. Kaggle allows users to explore the datasets that are uploaded by other users and develop models based on the datasets. This particular dataset is published by Svetlana Ulianova, a data analyst working at TELUS Health, based in Canada. The publisher states that all the data are collected on the moment of medical examination but the exact source of the data is not known. \n",
    "\n",
    "Source of data: https://www.kaggle.com/sulianova/cardiovascular-disease-dataset"
   ]
  },
  {
   "cell_type": "markdown",
   "metadata": {},
   "source": [
    "## Methodology\n",
    "\n",
    "Python will be used here to conduct exploratory data analysis (EDA), as well as to do predictive analysis. Python is chosen due to the ease of use and wide variety of libraries that can be leveraged on. A library is a piece of code that can perform certain actions that has already been written by external sources. This means that as data scientists, we do not have to develop our own code from scratch every time we perform data analysis. As ML usually leverage on constant data processing, Python is the ideal general purpose programming language that we can use, allowing us to manipulate and transform data with ease using the wide array of libraries.\n",
    "\n",
    "Here is a table for some of the libraries that are used.\n",
    "\n",
    "| Library | Python Library Name | Purpose |\n",
    "|:---:|:---:|:---:|\n",
    "| Scikit-learn | sklearn | Wide variety of ML algorithms, both classification and regression problems |\n",
    "| Pandas | pandas | Reading and writing of csv file, data manipulation, operations such as merging and joining of files |\n",
    "| Numpy | numpy | Methods for scientific computing and ease of data manipulation using additional data objects, e.g. arrays |\n",
    "| Matplotlib | matplotlib | Plotting of static graphs and charts for visualisation |\n",
    "| Seaborn | seaborn | Built on top of matplotlib to make graphs and charts more elegant, purely for aesthetic purposes |\n",
    "\n",
    "The steps that will be performed for this machine learning project is as follows:\n",
    "\n",
    "| Steps | Process Name | Purpose |\n",
    "|:---:|:---:|:---:|\n",
    "| 1 | Data Cleaning | Removing of outliers, imputing missing values |\n",
    "| 2 | Data Preprocessing | Standardisation, Transformation, Normalisation, Feature Selection, Feature Engineering |\n",
    "| 3 | Data Visualisation | Plotting and visualisation of datapoints on graphs |\n",
    "| 4 | Model Selection | Selecting the right model |\n",
    "| 5 | Training | Training the model selected using the datapoint |\n",
    "| 6 | Testing | Testing on unseen data and evaluation of model performance |\n",
    "| 7 | Fine Tuning | Recursive process to improve model performance by changing parameters |\n",
    "\n",
    "From the problem statement and the data that is given, this is a binary classification problem. We are only interested to find if the patient is suffering from CVD or not based on the attributes. As such, some techniques that will be examined here will be random forest classification (RF), support vector machine (SVM) and logistic regression (LR)."
   ]
  },
  {
   "cell_type": "markdown",
   "metadata": {},
   "source": [
    "## Exploratory Data Analysis"
   ]
  },
  {
   "cell_type": "code",
   "execution_count": 39,
   "metadata": {
    "scrolled": false
   },
   "outputs": [],
   "source": [
    "# import statements\n",
    "import os\n",
    "import copy\n",
    "import pandas as pd\n",
    "import numpy as np\n",
    "import seaborn as sns\n",
    "import matplotlib.pyplot as plt\n",
    "import pickle as pkl"
   ]
  },
  {
   "cell_type": "code",
   "execution_count": 57,
   "metadata": {},
   "outputs": [
    {
     "data": {
      "text/html": [
       "<div>\n",
       "<style scoped>\n",
       "    .dataframe tbody tr th:only-of-type {\n",
       "        vertical-align: middle;\n",
       "    }\n",
       "\n",
       "    .dataframe tbody tr th {\n",
       "        vertical-align: top;\n",
       "    }\n",
       "\n",
       "    .dataframe thead th {\n",
       "        text-align: right;\n",
       "    }\n",
       "</style>\n",
       "<table border=\"1\" class=\"dataframe\">\n",
       "  <thead>\n",
       "    <tr style=\"text-align: right;\">\n",
       "      <th></th>\n",
       "      <th>id</th>\n",
       "      <th>age</th>\n",
       "      <th>gender</th>\n",
       "      <th>height</th>\n",
       "      <th>weight</th>\n",
       "      <th>ap_hi</th>\n",
       "      <th>ap_lo</th>\n",
       "      <th>cholesterol</th>\n",
       "      <th>gluc</th>\n",
       "      <th>smoke</th>\n",
       "      <th>alco</th>\n",
       "      <th>active</th>\n",
       "      <th>cardio</th>\n",
       "    </tr>\n",
       "  </thead>\n",
       "  <tbody>\n",
       "    <tr>\n",
       "      <th>0</th>\n",
       "      <td>0</td>\n",
       "      <td>18393</td>\n",
       "      <td>2</td>\n",
       "      <td>168</td>\n",
       "      <td>62.0</td>\n",
       "      <td>110</td>\n",
       "      <td>80</td>\n",
       "      <td>1</td>\n",
       "      <td>1</td>\n",
       "      <td>0</td>\n",
       "      <td>0</td>\n",
       "      <td>1</td>\n",
       "      <td>0</td>\n",
       "    </tr>\n",
       "    <tr>\n",
       "      <th>1</th>\n",
       "      <td>1</td>\n",
       "      <td>20228</td>\n",
       "      <td>1</td>\n",
       "      <td>156</td>\n",
       "      <td>85.0</td>\n",
       "      <td>140</td>\n",
       "      <td>90</td>\n",
       "      <td>3</td>\n",
       "      <td>1</td>\n",
       "      <td>0</td>\n",
       "      <td>0</td>\n",
       "      <td>1</td>\n",
       "      <td>1</td>\n",
       "    </tr>\n",
       "    <tr>\n",
       "      <th>2</th>\n",
       "      <td>2</td>\n",
       "      <td>18857</td>\n",
       "      <td>1</td>\n",
       "      <td>165</td>\n",
       "      <td>64.0</td>\n",
       "      <td>130</td>\n",
       "      <td>70</td>\n",
       "      <td>3</td>\n",
       "      <td>1</td>\n",
       "      <td>0</td>\n",
       "      <td>0</td>\n",
       "      <td>0</td>\n",
       "      <td>1</td>\n",
       "    </tr>\n",
       "    <tr>\n",
       "      <th>3</th>\n",
       "      <td>3</td>\n",
       "      <td>17623</td>\n",
       "      <td>2</td>\n",
       "      <td>169</td>\n",
       "      <td>82.0</td>\n",
       "      <td>150</td>\n",
       "      <td>100</td>\n",
       "      <td>1</td>\n",
       "      <td>1</td>\n",
       "      <td>0</td>\n",
       "      <td>0</td>\n",
       "      <td>1</td>\n",
       "      <td>1</td>\n",
       "    </tr>\n",
       "    <tr>\n",
       "      <th>4</th>\n",
       "      <td>4</td>\n",
       "      <td>17474</td>\n",
       "      <td>1</td>\n",
       "      <td>156</td>\n",
       "      <td>56.0</td>\n",
       "      <td>100</td>\n",
       "      <td>60</td>\n",
       "      <td>1</td>\n",
       "      <td>1</td>\n",
       "      <td>0</td>\n",
       "      <td>0</td>\n",
       "      <td>0</td>\n",
       "      <td>0</td>\n",
       "    </tr>\n",
       "    <tr>\n",
       "      <th>5</th>\n",
       "      <td>8</td>\n",
       "      <td>21914</td>\n",
       "      <td>1</td>\n",
       "      <td>151</td>\n",
       "      <td>67.0</td>\n",
       "      <td>120</td>\n",
       "      <td>80</td>\n",
       "      <td>2</td>\n",
       "      <td>2</td>\n",
       "      <td>0</td>\n",
       "      <td>0</td>\n",
       "      <td>0</td>\n",
       "      <td>0</td>\n",
       "    </tr>\n",
       "    <tr>\n",
       "      <th>6</th>\n",
       "      <td>9</td>\n",
       "      <td>22113</td>\n",
       "      <td>1</td>\n",
       "      <td>157</td>\n",
       "      <td>93.0</td>\n",
       "      <td>130</td>\n",
       "      <td>80</td>\n",
       "      <td>3</td>\n",
       "      <td>1</td>\n",
       "      <td>0</td>\n",
       "      <td>0</td>\n",
       "      <td>1</td>\n",
       "      <td>0</td>\n",
       "    </tr>\n",
       "    <tr>\n",
       "      <th>7</th>\n",
       "      <td>12</td>\n",
       "      <td>22584</td>\n",
       "      <td>2</td>\n",
       "      <td>178</td>\n",
       "      <td>95.0</td>\n",
       "      <td>130</td>\n",
       "      <td>90</td>\n",
       "      <td>3</td>\n",
       "      <td>3</td>\n",
       "      <td>0</td>\n",
       "      <td>0</td>\n",
       "      <td>1</td>\n",
       "      <td>1</td>\n",
       "    </tr>\n",
       "    <tr>\n",
       "      <th>8</th>\n",
       "      <td>13</td>\n",
       "      <td>17668</td>\n",
       "      <td>1</td>\n",
       "      <td>158</td>\n",
       "      <td>71.0</td>\n",
       "      <td>110</td>\n",
       "      <td>70</td>\n",
       "      <td>1</td>\n",
       "      <td>1</td>\n",
       "      <td>0</td>\n",
       "      <td>0</td>\n",
       "      <td>1</td>\n",
       "      <td>0</td>\n",
       "    </tr>\n",
       "    <tr>\n",
       "      <th>9</th>\n",
       "      <td>14</td>\n",
       "      <td>19834</td>\n",
       "      <td>1</td>\n",
       "      <td>164</td>\n",
       "      <td>68.0</td>\n",
       "      <td>110</td>\n",
       "      <td>60</td>\n",
       "      <td>1</td>\n",
       "      <td>1</td>\n",
       "      <td>0</td>\n",
       "      <td>0</td>\n",
       "      <td>0</td>\n",
       "      <td>0</td>\n",
       "    </tr>\n",
       "  </tbody>\n",
       "</table>\n",
       "</div>"
      ],
      "text/plain": [
       "   id    age  gender  height  weight  ap_hi  ap_lo  cholesterol  gluc  smoke  \\\n",
       "0   0  18393       2     168    62.0    110     80            1     1      0   \n",
       "1   1  20228       1     156    85.0    140     90            3     1      0   \n",
       "2   2  18857       1     165    64.0    130     70            3     1      0   \n",
       "3   3  17623       2     169    82.0    150    100            1     1      0   \n",
       "4   4  17474       1     156    56.0    100     60            1     1      0   \n",
       "5   8  21914       1     151    67.0    120     80            2     2      0   \n",
       "6   9  22113       1     157    93.0    130     80            3     1      0   \n",
       "7  12  22584       2     178    95.0    130     90            3     3      0   \n",
       "8  13  17668       1     158    71.0    110     70            1     1      0   \n",
       "9  14  19834       1     164    68.0    110     60            1     1      0   \n",
       "\n",
       "   alco  active  cardio  \n",
       "0     0       1       0  \n",
       "1     0       1       1  \n",
       "2     0       0       1  \n",
       "3     0       1       1  \n",
       "4     0       0       0  \n",
       "5     0       0       0  \n",
       "6     0       1       0  \n",
       "7     0       1       1  \n",
       "8     0       1       0  \n",
       "9     0       0       0  "
      ]
     },
     "execution_count": 57,
     "metadata": {},
     "output_type": "execute_result"
    }
   ],
   "source": [
    "df = pd.read_csv(\"data/cardio_train.csv\", sep = \";\")\n",
    "df.head(10)"
   ]
  },
  {
   "cell_type": "code",
   "execution_count": 58,
   "metadata": {},
   "outputs": [
    {
     "name": "stdout",
     "output_type": "stream",
     "text": [
      "<class 'pandas.core.frame.DataFrame'>\n",
      "RangeIndex: 70000 entries, 0 to 69999\n",
      "Data columns (total 13 columns):\n",
      " #   Column       Non-Null Count  Dtype  \n",
      "---  ------       --------------  -----  \n",
      " 0   id           70000 non-null  int64  \n",
      " 1   age          70000 non-null  int64  \n",
      " 2   gender       70000 non-null  int64  \n",
      " 3   height       70000 non-null  int64  \n",
      " 4   weight       70000 non-null  float64\n",
      " 5   ap_hi        70000 non-null  int64  \n",
      " 6   ap_lo        70000 non-null  int64  \n",
      " 7   cholesterol  70000 non-null  int64  \n",
      " 8   gluc         70000 non-null  int64  \n",
      " 9   smoke        70000 non-null  int64  \n",
      " 10  alco         70000 non-null  int64  \n",
      " 11  active       70000 non-null  int64  \n",
      " 12  cardio       70000 non-null  int64  \n",
      "dtypes: float64(1), int64(12)\n",
      "memory usage: 6.9 MB\n"
     ]
    }
   ],
   "source": [
    "# Looking for NaN values to impute\n",
    "df.info()"
   ]
  },
  {
   "cell_type": "code",
   "execution_count": 59,
   "metadata": {},
   "outputs": [
    {
     "data": {
      "text/html": [
       "<div>\n",
       "<style scoped>\n",
       "    .dataframe tbody tr th:only-of-type {\n",
       "        vertical-align: middle;\n",
       "    }\n",
       "\n",
       "    .dataframe tbody tr th {\n",
       "        vertical-align: top;\n",
       "    }\n",
       "\n",
       "    .dataframe thead th {\n",
       "        text-align: right;\n",
       "    }\n",
       "</style>\n",
       "<table border=\"1\" class=\"dataframe\">\n",
       "  <thead>\n",
       "    <tr style=\"text-align: right;\">\n",
       "      <th></th>\n",
       "      <th>age</th>\n",
       "      <th>gender</th>\n",
       "      <th>height</th>\n",
       "      <th>weight</th>\n",
       "      <th>ap_hi</th>\n",
       "      <th>ap_lo</th>\n",
       "      <th>cholesterol</th>\n",
       "      <th>gluc</th>\n",
       "      <th>smoke</th>\n",
       "      <th>alco</th>\n",
       "      <th>active</th>\n",
       "      <th>cardio</th>\n",
       "      <th>ageYear</th>\n",
       "      <th>genderMod</th>\n",
       "    </tr>\n",
       "  </thead>\n",
       "  <tbody>\n",
       "    <tr>\n",
       "      <th>0</th>\n",
       "      <td>18393</td>\n",
       "      <td>2</td>\n",
       "      <td>168</td>\n",
       "      <td>62.0</td>\n",
       "      <td>110</td>\n",
       "      <td>80</td>\n",
       "      <td>1</td>\n",
       "      <td>1</td>\n",
       "      <td>0</td>\n",
       "      <td>0</td>\n",
       "      <td>1</td>\n",
       "      <td>0</td>\n",
       "      <td>50.357290</td>\n",
       "      <td>1</td>\n",
       "    </tr>\n",
       "    <tr>\n",
       "      <th>1</th>\n",
       "      <td>20228</td>\n",
       "      <td>1</td>\n",
       "      <td>156</td>\n",
       "      <td>85.0</td>\n",
       "      <td>140</td>\n",
       "      <td>90</td>\n",
       "      <td>3</td>\n",
       "      <td>1</td>\n",
       "      <td>0</td>\n",
       "      <td>0</td>\n",
       "      <td>1</td>\n",
       "      <td>1</td>\n",
       "      <td>55.381246</td>\n",
       "      <td>0</td>\n",
       "    </tr>\n",
       "    <tr>\n",
       "      <th>2</th>\n",
       "      <td>18857</td>\n",
       "      <td>1</td>\n",
       "      <td>165</td>\n",
       "      <td>64.0</td>\n",
       "      <td>130</td>\n",
       "      <td>70</td>\n",
       "      <td>3</td>\n",
       "      <td>1</td>\n",
       "      <td>0</td>\n",
       "      <td>0</td>\n",
       "      <td>0</td>\n",
       "      <td>1</td>\n",
       "      <td>51.627652</td>\n",
       "      <td>0</td>\n",
       "    </tr>\n",
       "    <tr>\n",
       "      <th>3</th>\n",
       "      <td>17623</td>\n",
       "      <td>2</td>\n",
       "      <td>169</td>\n",
       "      <td>82.0</td>\n",
       "      <td>150</td>\n",
       "      <td>100</td>\n",
       "      <td>1</td>\n",
       "      <td>1</td>\n",
       "      <td>0</td>\n",
       "      <td>0</td>\n",
       "      <td>1</td>\n",
       "      <td>1</td>\n",
       "      <td>48.249144</td>\n",
       "      <td>1</td>\n",
       "    </tr>\n",
       "    <tr>\n",
       "      <th>4</th>\n",
       "      <td>17474</td>\n",
       "      <td>1</td>\n",
       "      <td>156</td>\n",
       "      <td>56.0</td>\n",
       "      <td>100</td>\n",
       "      <td>60</td>\n",
       "      <td>1</td>\n",
       "      <td>1</td>\n",
       "      <td>0</td>\n",
       "      <td>0</td>\n",
       "      <td>0</td>\n",
       "      <td>0</td>\n",
       "      <td>47.841205</td>\n",
       "      <td>0</td>\n",
       "    </tr>\n",
       "    <tr>\n",
       "      <th>5</th>\n",
       "      <td>21914</td>\n",
       "      <td>1</td>\n",
       "      <td>151</td>\n",
       "      <td>67.0</td>\n",
       "      <td>120</td>\n",
       "      <td>80</td>\n",
       "      <td>2</td>\n",
       "      <td>2</td>\n",
       "      <td>0</td>\n",
       "      <td>0</td>\n",
       "      <td>0</td>\n",
       "      <td>0</td>\n",
       "      <td>59.997262</td>\n",
       "      <td>0</td>\n",
       "    </tr>\n",
       "    <tr>\n",
       "      <th>6</th>\n",
       "      <td>22113</td>\n",
       "      <td>1</td>\n",
       "      <td>157</td>\n",
       "      <td>93.0</td>\n",
       "      <td>130</td>\n",
       "      <td>80</td>\n",
       "      <td>3</td>\n",
       "      <td>1</td>\n",
       "      <td>0</td>\n",
       "      <td>0</td>\n",
       "      <td>1</td>\n",
       "      <td>0</td>\n",
       "      <td>60.542094</td>\n",
       "      <td>0</td>\n",
       "    </tr>\n",
       "    <tr>\n",
       "      <th>7</th>\n",
       "      <td>22584</td>\n",
       "      <td>2</td>\n",
       "      <td>178</td>\n",
       "      <td>95.0</td>\n",
       "      <td>130</td>\n",
       "      <td>90</td>\n",
       "      <td>3</td>\n",
       "      <td>3</td>\n",
       "      <td>0</td>\n",
       "      <td>0</td>\n",
       "      <td>1</td>\n",
       "      <td>1</td>\n",
       "      <td>61.831622</td>\n",
       "      <td>1</td>\n",
       "    </tr>\n",
       "    <tr>\n",
       "      <th>8</th>\n",
       "      <td>17668</td>\n",
       "      <td>1</td>\n",
       "      <td>158</td>\n",
       "      <td>71.0</td>\n",
       "      <td>110</td>\n",
       "      <td>70</td>\n",
       "      <td>1</td>\n",
       "      <td>1</td>\n",
       "      <td>0</td>\n",
       "      <td>0</td>\n",
       "      <td>1</td>\n",
       "      <td>0</td>\n",
       "      <td>48.372348</td>\n",
       "      <td>0</td>\n",
       "    </tr>\n",
       "    <tr>\n",
       "      <th>9</th>\n",
       "      <td>19834</td>\n",
       "      <td>1</td>\n",
       "      <td>164</td>\n",
       "      <td>68.0</td>\n",
       "      <td>110</td>\n",
       "      <td>60</td>\n",
       "      <td>1</td>\n",
       "      <td>1</td>\n",
       "      <td>0</td>\n",
       "      <td>0</td>\n",
       "      <td>0</td>\n",
       "      <td>0</td>\n",
       "      <td>54.302533</td>\n",
       "      <td>0</td>\n",
       "    </tr>\n",
       "  </tbody>\n",
       "</table>\n",
       "</div>"
      ],
      "text/plain": [
       "     age  gender  height  weight  ap_hi  ap_lo  cholesterol  gluc  smoke  \\\n",
       "0  18393       2     168    62.0    110     80            1     1      0   \n",
       "1  20228       1     156    85.0    140     90            3     1      0   \n",
       "2  18857       1     165    64.0    130     70            3     1      0   \n",
       "3  17623       2     169    82.0    150    100            1     1      0   \n",
       "4  17474       1     156    56.0    100     60            1     1      0   \n",
       "5  21914       1     151    67.0    120     80            2     2      0   \n",
       "6  22113       1     157    93.0    130     80            3     1      0   \n",
       "7  22584       2     178    95.0    130     90            3     3      0   \n",
       "8  17668       1     158    71.0    110     70            1     1      0   \n",
       "9  19834       1     164    68.0    110     60            1     1      0   \n",
       "\n",
       "   alco  active  cardio    ageYear  genderMod  \n",
       "0     0       1       0  50.357290          1  \n",
       "1     0       1       1  55.381246          0  \n",
       "2     0       0       1  51.627652          0  \n",
       "3     0       1       1  48.249144          1  \n",
       "4     0       0       0  47.841205          0  \n",
       "5     0       0       0  59.997262          0  \n",
       "6     0       1       0  60.542094          0  \n",
       "7     0       1       1  61.831622          1  \n",
       "8     0       1       0  48.372348          0  \n",
       "9     0       0       0  54.302533          0  "
      ]
     },
     "execution_count": 59,
     "metadata": {},
     "output_type": "execute_result"
    }
   ],
   "source": [
    "#make a deep copy of the raw data in case we need to access it later\n",
    "dfRaw = copy.deepcopy(df)\n",
    "# remove id column as it is not in running order\n",
    "df.drop(['id'], axis=1, inplace=True)\n",
    "\n",
    "#converting age to years\n",
    "#converting gender: 1 is Male; 0 is Female\n",
    "df['ageYear'] = df['age']/365.25\n",
    "df['genderMod'] = df['gender'] - 1\n",
    "\n",
    "df.head(10)"
   ]
  },
  {
   "cell_type": "markdown",
   "metadata": {},
   "source": [
    "### Data\n",
    "\n",
    "So far from looking at the data, we can see that there is no null/ missing values. However, this does not mean that there are no invalid data as each of the attributes can still give a reading that is not physically possible. We will need to explore some of the data further to make sense of what we have. Attributes such as ageYear, genderMod, height, weight, ap_hi and ap_lo are attributes that we have to look into. I define a method that can allow me to calculate and find outliers that are below and above 1.5IQR."
   ]
  },
  {
   "cell_type": "code",
   "execution_count": 60,
   "metadata": {},
   "outputs": [],
   "source": [
    "# Function to find lower and upper bound of outlier \n",
    "def findOutlier(df):\n",
    "    Q1 = df.quantile(0.25)\n",
    "    Q3 = df.quantile(0.75)\n",
    "    IQR = Q3 - Q1\n",
    "    lower = Q1 - (1.5 * IQR)\n",
    "    upper = Q3 + (1.5 * IQR)\n",
    "    return lower , upper"
   ]
  },
  {
   "cell_type": "markdown",
   "metadata": {},
   "source": [
    "#### 1. Age\n",
    "\n",
    "We see that for age, there are some outliers (patient around their 30s), these are the points represented below the whiskers, which is beyond a distance of 1.5 times the Interquartile Range (IQR). As the bulk of the patient data are in their 40s-60s, it makes more sense to remove these outliers. Inspecting the results, we can see that 4 datapoints were removed."
   ]
  },
  {
   "cell_type": "code",
   "execution_count": 61,
   "metadata": {},
   "outputs": [
    {
     "data": {
      "image/png": "[encoded data removed]",
      "text/plain": [
       "<Figure size 432x288 with 1 Axes>"
      ]
     },
     "metadata": {
      "needs_background": "light"
     },
     "output_type": "display_data"
    },
    {
     "name": "stdout",
     "output_type": "stream",
     "text": [
      "Number of datapoints that exceed 1.5 IQR: 4\n"
     ]
    },
    {
     "data": {
      "image/png": "[encoded data removed]",
      "text/plain": [
       "<Figure size 432x288 with 1 Axes>"
      ]
     },
     "metadata": {
      "needs_background": "light"
     },
     "output_type": "display_data"
    }
   ],
   "source": [
    "# Age\n",
    "x = df.ageYear\n",
    "ageChart = sns.distplot(x, kde=False, rug = True)\n",
    "ageChart.set_title('Frequency Plot of Age in Years')\n",
    "plt.show()\n",
    "\n",
    "lowerbound , upperbound = findOutlier(df['ageYear'])\n",
    "print(\"Number of datapoints that exceed 1.5 IQR: \" + str(len(df[(df.ageYear < lowerbound) | (df.ageYear > upperbound)])))\n",
    "df.drop(df[(df.ageYear < lowerbound) | (df.ageYear > upperbound)].index , inplace=True)\n",
    "\n",
    "ageBoxplot = sns.boxplot(x=df['ageYear'])\n",
    "ageBoxplot.set_title(\"Box Plot of Age in Years (Cleaned)\")\n",
    "plt.show()"
   ]
  },
  {
   "cell_type": "markdown",
   "metadata": {},
   "source": [
    "#### 2. Height and Weight\n",
    "\n",
    "We see that for height and weight, the data spread is rather large and there are a number of outliers, some of these datapoints do not make sense as majority of the patients are adults above the age of 35. For adults at this age, height of a person below 130cm is exceeding rare, and weight of a person below 30kg is also near impossible. \n",
    "\n",
    "Similarly to age, we use a lowerbound and an upperbound to detect the datapoints that have these results. Computing the total number of erroneous datapoints, they account for a maximum of 3% of the entire dataset, as such, removing these will not cause too much of a problem. The threshold of the bounds might still look questionable as there are definitely adults who are taller than 186.5cm and weights more than 107.5kg, but we will have to limit our analysis to this range in this case as we have to be fair in dealing with all the outliers. "
   ]
  },
  {
   "cell_type": "code",
   "execution_count": 65,
   "metadata": {},
   "outputs": [
    {
     "data": {
      "image/png": "[encoded data removed]",
      "text/plain": [
       "<Figure size 432x288 with 1 Axes>"
      ]
     },
     "metadata": {
      "needs_background": "light"
     },
     "output_type": "display_data"
    },
    {
     "data": {
      "image/png": "[encoded data removed]",
      "text/plain": [
       "<Figure size 432x288 with 1 Axes>"
      ]
     },
     "metadata": {
      "needs_background": "light"
     },
     "output_type": "display_data"
    }
   ],
   "source": [
    "# Height\n",
    "h = df.height\n",
    "heightChart = sns.distplot(h, kde=False, rug = True)\n",
    "heightChart.set_title('height')\n",
    "plt.show()\n",
    "\n",
    "# Weight\n",
    "w = df.weight\n",
    "weightChart = sns.distplot(w, kde=False, rug = True)\n",
    "weightChart.set_title('weight')\n",
    "plt.show()"
   ]
  },
  {
   "cell_type": "code",
   "execution_count": 66,
   "metadata": {},
   "outputs": [
    {
     "name": "stdout",
     "output_type": "stream",
     "text": [
      "Height lowerbound: 142.5\n",
      "Height upperbound: 186.5\n",
      "Number of datapoints that exceed 1.5 IQR: 519\n"
     ]
    },
    {
     "data": {
      "image/png": "[encoded data removed]",
      "text/plain": [
       "<Figure size 432x288 with 1 Axes>"
      ]
     },
     "metadata": {
      "needs_background": "light"
     },
     "output_type": "display_data"
    },
    {
     "name": "stdout",
     "output_type": "stream",
     "text": [
      "Weight lowerbound: 39.5\n",
      "Weight upperbound: 107.5\n",
      "Number of datapoints that exceed 1.5 IQR: 1819\n"
     ]
    },
    {
     "data": {
      "image/png": "[encoded data removed]",
      "text/plain": [
       "<Figure size 432x288 with 1 Axes>"
      ]
     },
     "metadata": {
      "needs_background": "light"
     },
     "output_type": "display_data"
    }
   ],
   "source": [
    "# Height\n",
    "hLowerbound , hUpperbound = findOutlier(df['height'])\n",
    "heightC = df.drop(df[(df.height < hLowerbound) | (df.height > hUpperbound)].index)\n",
    "print(\"Height lowerbound: \" + str(hLowerbound))\n",
    "print(\"Height upperbound: \" + str(hUpperbound))\n",
    "print(\"Number of datapoints that exceed 1.5 IQR: \" + str(len(df[(df.height < hLowerbound) | (df.height > hUpperbound)])))\n",
    "\n",
    "hBoxplot = sns.boxplot(x=heightC['height'])\n",
    "hBoxplot.set_title(\"Height (Cleaned)\")\n",
    "plt.show()\n",
    "\n",
    "# Weight\n",
    "wLowerbound , wUpperbound = findOutlier(df['weight'])\n",
    "weightC = df.drop(df[(df.weight < wLowerbound) | (df.weight > wUpperbound)].index)\n",
    "print(\"Weight lowerbound: \" + str(wLowerbound))\n",
    "print(\"Weight upperbound: \" + str(wUpperbound))\n",
    "print(\"Number of datapoints that exceed 1.5 IQR: \" + str(len(df[(df.weight < wLowerbound) | (df.weight > wUpperbound)])))\n",
    "\n",
    "wBoxplot = sns.boxplot(x=weightC['weight'])\n",
    "wBoxplot.set_title(\"Weight (Cleaned)\")\n",
    "plt.show()"
   ]
  },
  {
   "cell_type": "code",
   "execution_count": 67,
   "metadata": {},
   "outputs": [],
   "source": [
    "# Drop erroneous data\n",
    "df.drop(df[(df.height < hLowerbound) | (df.height > hUpperbound)].index, inplace = True)\n",
    "df.drop(df[(df.weight < wLowerbound) | (df.weight > wUpperbound)].index, inplace = True)"
   ]
  },
  {
   "cell_type": "markdown",
   "metadata": {},
   "source": [
    "#### 3. ap_hi and ap_lo \n",
    "For ap_hi and ap_lo, these represents the systolic and diastolic blood pressure of a person. Knowing the range of these two measurements require domain knowledge. For a healthy person, the blood pressure is less than 120/80 mmHg, which means 120 and 80 for systolic and diastolic respectively. Most information found online pointed to the range where different stages of hypertension occurred given the different diastolic and systolic blood pressure, but little information is shed regarding low blood pressure, as well as the minimum and maximum range of both systolic and diastolic pressure. \n",
    "\n",
    "Upon further research, low blood pressure is not a usual major cause of concern and patients only need to consult their doctors only if they feel faint or dizzy, as such, the range of low blood pressure is often not included in blood pressure charts. \n",
    "\n",
    "As such, we will follow the chart from BloodPressureUK, a UK charity that is dedicated to lowering the UK's blood pressure as a benchmark for the acceptable range for the minimum and maximum."
   ]
  },
  {
   "cell_type": "markdown",
   "metadata": {},
   "source": [
    "\n",
    "\n",
    "<img src=\"http://www.bloodpressureuk.org/BloodPressureandyou/Thebasics/Bloodpressurechart/main_content/wFvl/large\" alt=\"heart_chart\" width=\"300\"/>"
   ]
  },
  {
   "cell_type": "code",
   "execution_count": 48,
   "metadata": {},
   "outputs": [
    {
     "data": {
      "image/png": "[encoded data removed]",
      "text/plain": [
       "<Figure size 432x288 with 1 Axes>"
      ]
     },
     "metadata": {
      "needs_background": "light"
     },
     "output_type": "display_data"
    },
    {
     "data": {
      "image/png": "[encoded data removed]",
      "text/plain": [
       "<Figure size 432x288 with 1 Axes>"
      ]
     },
     "metadata": {
      "needs_background": "light"
     },
     "output_type": "display_data"
    }
   ],
   "source": [
    "# Systolic\n",
    "systolic = df.ap_hi\n",
    "systolicChart = sns.distplot(systolic, kde=False, rug = True)\n",
    "systolicChart.set_title('systolic')\n",
    "plt.show()\n",
    "\n",
    "# Diastolic\n",
    "diastolic = df.ap_lo\n",
    "diastolicChart = sns.distplot(diastolic, kde=False, rug = True)\n",
    "diastolicChart.set_title('diastolic')\n",
    "plt.show()"
   ]
  },
  {
   "cell_type": "code",
   "execution_count": 49,
   "metadata": {},
   "outputs": [
    {
     "name": "stdout",
     "output_type": "stream",
     "text": [
      "65828\n"
     ]
    }
   ],
   "source": [
    "#Drop data outside acceptable range\n",
    "df.drop(df[(df.ap_hi < 70) | (df.ap_hi > 190)].index, inplace = True)\n",
    "df.drop(df[(df.ap_lo < 40) | (df.ap_lo > 120)].index, inplace = True)\n",
    "\n",
    "print(len(df))"
   ]
  },
  {
   "cell_type": "code",
   "execution_count": 50,
   "metadata": {},
   "outputs": [
    {
     "data": {
      "image/png": "[encoded data removed]",
      "text/plain": [
       "<Figure size 432x288 with 1 Axes>"
      ]
     },
     "metadata": {
      "needs_background": "light"
     },
     "output_type": "display_data"
    },
    {
     "data": {
      "image/png": "[encoded data removed]",
      "text/plain": [
       "<Figure size 432x288 with 1 Axes>"
      ]
     },
     "metadata": {
      "needs_background": "light"
     },
     "output_type": "display_data"
    }
   ],
   "source": [
    "# Systolic\n",
    "boxplot = sns.boxplot(x=df['ap_hi'])\n",
    "boxplot.set_title(\"Systolic (Cleaned)\")\n",
    "plt.show()\n",
    "\n",
    "# Diastolic\n",
    "boxplot = sns.boxplot(x=df['ap_lo'])\n",
    "boxplot.set_title(\"Diastolic (Cleaned)\")\n",
    "plt.show()"
   ]
  },
  {
   "cell_type": "markdown",
   "metadata": {},
   "source": [
    "#### 4. Cardio\n",
    "The final step is ensuring that the target variables do not have uneven distribution. Severely skewed distribution will mean model training will be adversely affected and some techniques, such as logistic regression, cannot be used at all. \"cardio\" is especially important as it is the target variable that we have. In this case, \"cardio\" is evenly distributed. We then name out final cleaned dataframe and define the features and the target variable explicitly."
   ]
  },
  {
   "cell_type": "code",
   "execution_count": 51,
   "metadata": {},
   "outputs": [
    {
     "data": {
      "image/png": "[encoded data removed]",
      "text/plain": [
       "<Figure size 432x288 with 1 Axes>"
      ]
     },
     "metadata": {
      "needs_background": "light"
     },
     "output_type": "display_data"
    }
   ],
   "source": [
    "# Cardio\n",
    "cardio = sns.countplot(x=df['cardio'])\n",
    "cardio.set_title(\"Cardio Breakdown\")\n",
    "plt.show()\n",
    "\n",
    "cleaneddf = df[['ageYear','genderMod','height','weight','ap_hi','ap_lo',\n",
    "                'cholesterol','gluc','smoke','alco','active','cardio']]\n",
    "\n",
    "features = cleaneddf.iloc[:,:-1]\n",
    "y = cleaneddf.iloc[:,-1]"
   ]
  },
  {
   "cell_type": "markdown",
   "metadata": {},
   "source": [
    "### Feature Selection and Engineering\n",
    "\n",
    "We will now look at the features and determine if we need eliminate existing features or compute better features to reduce the redundancy in the information from the data. We do this by first looking at the Pearson correlation between each pair of features. An easy way to do this is by doing a heatmap of the pairwise correlation coefficient through seaborn. We use a blue-white-red colourmap to show the contrasting correlation. \n",
    "\n",
    "We see that most of the features are much correlated other than ap_hi and ap_lo, which sees a Pearson correlation coefficient at 0.7."
   ]
  },
  {
   "cell_type": "code",
   "execution_count": 52,
   "metadata": {},
   "outputs": [
    {
     "data": {
      "text/plain": [
       "<matplotlib.axes._subplots.AxesSubplot at 0x1de9a0cef48>"
      ]
     },
     "execution_count": 52,
     "metadata": {},
     "output_type": "execute_result"
    },
    {
     "data": {
      "image/png": "[encoded data removed]",
      "text/plain": [
       "<Figure size 432x288 with 2 Axes>"
      ]
     },
     "metadata": {
      "needs_background": "light"
     },
     "output_type": "display_data"
    }
   ],
   "source": [
    "corr = features.corr()\n",
    "sns.heatmap(corr, annot = True, fmt='.1g', vmin=-1, vmax=1, center= 0, cmap = 'bwr')"
   ]
  },
  {
   "cell_type": "code",
   "execution_count": 53,
   "metadata": {},
   "outputs": [],
   "source": [
    "from sklearn.model_selection import train_test_split\n",
    "X_train, X_test, y_train, y_test = train_test_split(cleaneddf, y, test_size=0.2)"
   ]
  },
  {
   "cell_type": "code",
   "execution_count": 54,
   "metadata": {},
   "outputs": [],
   "source": [
    "# Add text about PCA"
   ]
  },
  {
   "cell_type": "code",
   "execution_count": 55,
   "metadata": {},
   "outputs": [],
   "source": [
    "from sklearn.preprocessing import StandardScaler\n",
    "from sklearn.decomposition import PCA\n",
    "\n",
    "def normalisedDataPCA(x_train):\n",
    "    #normalisation\n",
    "    sc = StandardScaler()\n",
    "    x_train = sc.fit_transform(x_train)\n",
    "    pca = PCA() \n",
    "    x_train = pca.fit_transform(x_train)\n",
    "    explained_variance = pca.explained_variance_ratio_\n",
    "    print(explained_variance)  \n",
    "    plt.plot(np.cumsum(explained_variance))\n",
    "    plt.grid(True)\n",
    "    plt.xlabel(\"number of components\")\n",
    "    plt.ylabel(\"cumulative explained variance\")\n",
    "    plt.bar(range(features.shape[1]), np.cumsum(explained_variance))\n",
    "    print\n",
    "    plt.show()"
   ]
  },
  {
   "cell_type": "code",
   "execution_count": 56,
   "metadata": {},
   "outputs": [
    {
     "name": "stdout",
     "output_type": "stream",
     "text": [
      "[0.19810485 0.17202945 0.11851027 0.10145817 0.0899014  0.08066032\n",
      " 0.07022363 0.05596387 0.04887347 0.03858606 0.0256885 ]\n"
     ]
    },
    {
     "data": {
      "image/png": "[encoded data removed]",
      "text/plain": [
       "<Figure size 432x288 with 1 Axes>"
      ]
     },
     "metadata": {
      "needs_background": "light"
     },
     "output_type": "display_data"
    }
   ],
   "source": [
    "normalisedDataPCA(features)"
   ]
  },
  {
   "cell_type": "code",
   "execution_count": null,
   "metadata": {},
   "outputs": [],
   "source": []
  },
  {
   "cell_type": "code",
   "execution_count": null,
   "metadata": {},
   "outputs": [],
   "source": []
  }
 ],
 "metadata": {
  "kernelspec": {
   "display_name": "Python 3.7.7 64-bit",
   "language": "python",
   "name": "python36564bitff55e827ad904bdcb671483e8c1e224d"
  },
  "language_info": {
   "codemirror_mode": {
    "name": "ipython",
    "version": 3
   },
   "file_extension": ".py",
   "mimetype": "text/x-python",
   "name": "python",
   "nbconvert_exporter": "python",
   "pygments_lexer": "ipython3",
   "version": "3.7.7"
  }
 },
 "nbformat": 4,
 "nbformat_minor": 2
}
