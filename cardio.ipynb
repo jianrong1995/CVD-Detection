{
 "cells": [
  {
   "cell_type": "markdown",
   "metadata": {},
   "source": [
    "# Cardiovascular Disease Classification \n",
    "\n",
    "Last Edited: 09/5/2020\n",
    "Author: Shi Jianrong\n"
   ]
  },
  {
   "cell_type": "markdown",
   "metadata": {},
   "source": [
    "## Preamble\n",
    "\n",
    "Cardiovascular disease (CVD) is a class of diseases that involve the heart or blood vessels. It is the leading cause of death in all over the world except in Africa. Some of the common CVD include hypertensive heart disease, stroke, angina, arrhythmia and heart failure.\n",
    "\n",
    "According to the World Health Organisation (WHO), it takes an estimated 17.9 million lives each year, accounting for 31% of total death worldwide. It is estimated that 75% of CVD deaths are preventable if proper treatment and intervention are administered to patients with existing CVD. A large number of researches are done throughout the years in the area of risk factors that affects the chances of getting CVD. Some of the common risk factors identified are genetics, age, gender, tobacco use, alcohol use, physical activities, diet, sleep and stress.\n",
    "\n",
    "For patients who have not been diagnosed of CVD and who are experiencing symptoms of CVD, doctors will usually evaluate his/her risk based on individual risk factors. Further diagnosis can then be performed ,in the forms of electrocardiogram (ECG), exercise stress tests, echocardiogram, coronary angiography, magnetic resonance imaging (MRI) and computerised tomography (CT), depending on the suspected disease. \n",
    "\n",
    "The aim of this project is to predict if a person is suffering from CVD based on a few simple characteristics. The factors that are examined here are age, gender, height, weight, systolic blood pressure, diastolic blood pressure, cholesterol level, glucose level, tabacco use, alcohol use and physical activity. \n",
    "\n",
    "The project aims to leverage on machine learning (ML) techniques to effectively classify and detect CVD cases. It is intended to be used as a proof of concept that these factors can be used as a simple evaluation to tell if a potential patient may suffer from CVD. "
   ]
  },
  {
   "cell_type": "markdown",
   "metadata": {},
   "source": [
    "## Data Source\n",
    "\n",
    "The data was obtained from Kaggle, a subsidary under Alphabet Inc. It is an online community for data scientists and ML practitioners. Kaggle allows users to explore the datasets that are uploaded by other users and develop models based on the datasets. This particular dataset is published by Svetlana Ulianova, a data analyst working at TELUS Health, based in Canada. The publisher states that all the data are collected on the moment of medical examination but the exact source of the data is not known. "
   ]
  },
  {
   "cell_type": "markdown",
   "metadata": {},
   "source": [
    "## Methodology\n",
    "\n",
    "Python will be used here to conduct exploratory data analysis (EDA), as well as to do predictive analysis. Python is chosen due to the ease of use and wide variety of libraries that can be leveraged on. A library is a piece of code that can perform certain actions that has already been written by external sources. This means that as data scientists, we do not have to develop our own code from scratch every time we perform data analysis. As ML usually leverage on constant data processing, Python is the ideal general purpose programming language that we can use, allowing us to manipulate and transform data with ease using the wide array of libraries.\n",
    "\n",
    "Here is a table for some of the libraries that are used.\n",
    "\n",
    "| Library | Python Library Name | Purpose |\n",
    "|:---:|:---:|:---:|\n",
    "| Scikit-learn | sklearn | Wide variety of ML algorithms, both classification and regression problems |\n",
    "| Pandas | pandas | Reading and writing of csv file, data manipulation, operations such as merging and joining of files |\n",
    "| Numpy | numpy | Methods for scientific computing and ease of data manipulation using additional data objects, e.g. arrays |\n",
    "| Matplotlib | matplotlib | Plotting of static graphs and charts for visualisation |\n",
    "| Seaborn | seaborn | Built on top of matplotlib to make graphs and charts more elegant, purely for aesthetic purposes |\n",
    "\n",
    "\n",
    "\n",
    "\n",
    "The steps that will be performed for this machine learning project is as follows:\n",
    "\n",
    "| Steps | Process Name | Purpose |\n",
    "|:---:|:---:|:---:|\n",
    "| 1 | Data Cleaning | Removing of outliers, imputing missing values |\n",
    "| 2 | Data Preprocessing | Standardisation, Transformation, Normalisation, Feature Selection, Feature Engineering |\n",
    "| 3 | Data Visualisation | Plotting and visualisation of datapoints on graphs |\n",
    "| 4 | Model Selection | Selecting the right model |\n",
    "| 5 | Training | Training the model selected using the datapoint |\n",
    "| 6 | Testing | Testing on unseen data and evaluation of model performance |\n",
    "| 7 | Fine Tuning | Recursive process to improve model performance by changing parameters |"
   ]
  },
  {
   "cell_type": "markdown",
   "metadata": {},
   "source": [
    "## Exploratory Data Analysis"
   ]
  },
  {
   "cell_type": "code",
   "execution_count": 3,
   "metadata": {
    "scrolled": false
   },
   "outputs": [],
   "source": [
    "# import statements\n",
    "import os\n",
    "import pandas as pd\n",
    "import numpy as np\n",
    "import seaborn as sns\n",
    "import matplotlib.pyplot as plt\n",
    "import pickle as pkl"
   ]
  },
  {
   "cell_type": "code",
   "execution_count": 5,
   "metadata": {},
   "outputs": [
    {
     "output_type": "execute_result",
     "data": {
      "text/plain": "     age  gender  height  weight  ap_hi  ap_lo  cholesterol  gluc  smoke  \\\n0  18393       2     168    62.0    110     80            1     1      0   \n1  20228       1     156    85.0    140     90            3     1      0   \n2  18857       1     165    64.0    130     70            3     1      0   \n3  17623       2     169    82.0    150    100            1     1      0   \n4  17474       1     156    56.0    100     60            1     1      0   \n5  21914       1     151    67.0    120     80            2     2      0   \n6  22113       1     157    93.0    130     80            3     1      0   \n7  22584       2     178    95.0    130     90            3     3      0   \n8  17668       1     158    71.0    110     70            1     1      0   \n9  19834       1     164    68.0    110     60            1     1      0   \n\n   alco  active  cardio  \n0     0       1       0  \n1     0       1       1  \n2     0       0       1  \n3     0       1       1  \n4     0       0       0  \n5     0       0       0  \n6     0       1       0  \n7     0       1       1  \n8     0       1       0  \n9     0       0       0  ",
      "text/html": "<div>\n<style scoped>\n    .dataframe tbody tr th:only-of-type {\n        vertical-align: middle;\n    }\n\n    .dataframe tbody tr th {\n        vertical-align: top;\n    }\n\n    .dataframe thead th {\n        text-align: right;\n    }\n</style>\n<table border=\"1\" class=\"dataframe\">\n  <thead>\n    <tr style=\"text-align: right;\">\n      <th></th>\n      <th>age</th>\n      <th>gender</th>\n      <th>height</th>\n      <th>weight</th>\n      <th>ap_hi</th>\n      <th>ap_lo</th>\n      <th>cholesterol</th>\n      <th>gluc</th>\n      <th>smoke</th>\n      <th>alco</th>\n      <th>active</th>\n      <th>cardio</th>\n    </tr>\n  </thead>\n  <tbody>\n    <tr>\n      <th>0</th>\n      <td>18393</td>\n      <td>2</td>\n      <td>168</td>\n      <td>62.0</td>\n      <td>110</td>\n      <td>80</td>\n      <td>1</td>\n      <td>1</td>\n      <td>0</td>\n      <td>0</td>\n      <td>1</td>\n      <td>0</td>\n    </tr>\n    <tr>\n      <th>1</th>\n      <td>20228</td>\n      <td>1</td>\n      <td>156</td>\n      <td>85.0</td>\n      <td>140</td>\n      <td>90</td>\n      <td>3</td>\n      <td>1</td>\n      <td>0</td>\n      <td>0</td>\n      <td>1</td>\n      <td>1</td>\n    </tr>\n    <tr>\n      <th>2</th>\n      <td>18857</td>\n      <td>1</td>\n      <td>165</td>\n      <td>64.0</td>\n      <td>130</td>\n      <td>70</td>\n      <td>3</td>\n      <td>1</td>\n      <td>0</td>\n      <td>0</td>\n      <td>0</td>\n      <td>1</td>\n    </tr>\n    <tr>\n      <th>3</th>\n      <td>17623</td>\n      <td>2</td>\n      <td>169</td>\n      <td>82.0</td>\n      <td>150</td>\n      <td>100</td>\n      <td>1</td>\n      <td>1</td>\n      <td>0</td>\n      <td>0</td>\n      <td>1</td>\n      <td>1</td>\n    </tr>\n    <tr>\n      <th>4</th>\n      <td>17474</td>\n      <td>1</td>\n      <td>156</td>\n      <td>56.0</td>\n      <td>100</td>\n      <td>60</td>\n      <td>1</td>\n      <td>1</td>\n      <td>0</td>\n      <td>0</td>\n      <td>0</td>\n      <td>0</td>\n    </tr>\n    <tr>\n      <th>5</th>\n      <td>21914</td>\n      <td>1</td>\n      <td>151</td>\n      <td>67.0</td>\n      <td>120</td>\n      <td>80</td>\n      <td>2</td>\n      <td>2</td>\n      <td>0</td>\n      <td>0</td>\n      <td>0</td>\n      <td>0</td>\n    </tr>\n    <tr>\n      <th>6</th>\n      <td>22113</td>\n      <td>1</td>\n      <td>157</td>\n      <td>93.0</td>\n      <td>130</td>\n      <td>80</td>\n      <td>3</td>\n      <td>1</td>\n      <td>0</td>\n      <td>0</td>\n      <td>1</td>\n      <td>0</td>\n    </tr>\n    <tr>\n      <th>7</th>\n      <td>22584</td>\n      <td>2</td>\n      <td>178</td>\n      <td>95.0</td>\n      <td>130</td>\n      <td>90</td>\n      <td>3</td>\n      <td>3</td>\n      <td>0</td>\n      <td>0</td>\n      <td>1</td>\n      <td>1</td>\n    </tr>\n    <tr>\n      <th>8</th>\n      <td>17668</td>\n      <td>1</td>\n      <td>158</td>\n      <td>71.0</td>\n      <td>110</td>\n      <td>70</td>\n      <td>1</td>\n      <td>1</td>\n      <td>0</td>\n      <td>0</td>\n      <td>1</td>\n      <td>0</td>\n    </tr>\n    <tr>\n      <th>9</th>\n      <td>19834</td>\n      <td>1</td>\n      <td>164</td>\n      <td>68.0</td>\n      <td>110</td>\n      <td>60</td>\n      <td>1</td>\n      <td>1</td>\n      <td>0</td>\n      <td>0</td>\n      <td>0</td>\n      <td>0</td>\n    </tr>\n  </tbody>\n</table>\n</div>"
     },
     "metadata": {},
     "execution_count": 5
    }
   ],
   "source": [
    "CVDraw = pd.read_csv(\"data/cardio_train.csv\", sep = \";\")\n",
    "CVDraw.head(10)\n",
    "\n",
    "# remove id column as it is not in running order\n",
    "CVDraw = CVDraw.drop(['id'], axis=1)\n",
    "CVDraw.head(10)"
   ]
  },
  {
   "cell_type": "code",
   "execution_count": null,
   "metadata": {},
   "outputs": [],
   "source": []
  }
 ],
 "metadata": {
  "kernelspec": {
   "display_name": "Python 3.6.5 64-bit",
   "language": "python",
   "name": "python36564bitff55e827ad904bdcb671483e8c1e224d"
  },
  "language_info": {
   "codemirror_mode": {
    "name": "ipython",
    "version": 3
   },
   "file_extension": ".py",
   "mimetype": "text/x-python",
   "name": "python",
   "nbconvert_exporter": "python",
   "pygments_lexer": "ipython3",
   "version": "3.6.5-final"
  }
 },
 "nbformat": 4,
 "nbformat_minor": 2
}